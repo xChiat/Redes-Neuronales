{
  "nbformat": 4,
  "nbformat_minor": 0,
  "metadata": {
    "colab": {
      "provenance": []
    },
    "kernelspec": {
      "name": "python3",
      "display_name": "Python 3"
    },
    "language_info": {
      "name": "python"
    }
  },
  "cells": [
    {
      "cell_type": "code",
      "execution_count": null,
      "metadata": {
        "id": "hLkEpwa0chd5"
      },
      "outputs": [],
      "source": [
        "from google.colab import drive\n",
        "import pandas as pd\n",
        "import matplotlib.pyplot as plt"
      ]
    },
    {
      "cell_type": "code",
      "source": [
        "drive.mount('/content/drive')\n",
        "datos = pd.read_csv('./drive/MyDrive/proyectos/data.csv')\n",
        "datos"
      ],
      "metadata": {
        "colab": {
          "base_uri": "https://localhost:8080/",
          "height": 1000
        },
        "id": "WEmYn-GFc-5t",
        "outputId": "c21fe34f-ba09-4cf2-d17b-345a8ede226a"
      },
      "execution_count": null,
      "outputs": [
        {
          "output_type": "stream",
          "name": "stdout",
          "text": [
            "Drive already mounted at /content/drive; to attempt to forcibly remount, call drive.mount(\"/content/drive\", force_remount=True).\n"
          ]
        },
        {
          "output_type": "execute_result",
          "data": {
            "text/plain": [
              "            Nombre  ntProm  asPor\n",
              "0     Estudiante 1    6.60   88.0\n",
              "1     Estudiante 2    6.60   84.0\n",
              "2     Estudiante 3    6.50   93.0\n",
              "3     Estudiante 4    6.40   92.0\n",
              "4     Estudiante 5    6.40   83.0\n",
              "5     Estudiante 6    6.40   93.0\n",
              "6     Estudiante 7    6.20   88.0\n",
              "7     Estudiante 8    6.20   90.0\n",
              "8     Estudiante 9    6.20   95.0\n",
              "9    Estudiante 10    6.10   86.0\n",
              "10   Estudiante 11    6.10   93.0\n",
              "11   Estudiante 12    6.10   92.0\n",
              "12   Estudiante 13    6.10   87.0\n",
              "13   Estudiante 14    5.70   92.0\n",
              "14   Estudiante 15    5.70   61.0\n",
              "15   Estudiante 16    5.70   93.0\n",
              "16   Estudiante 17    5.60   87.0\n",
              "17   Estudiante 18    5.60   89.0\n",
              "18   Estudiante 19    5.60   82.0\n",
              "19   Estudiante 20    5.50   89.0\n",
              "20   Estudiante 21    5.50   95.0\n",
              "21   Estudiante 22    5.40   69.0\n",
              "22   Estudiante 23    5.40   92.0\n",
              "23   Estudiante 24    5.40   83.0\n",
              "24   Estudiante 25    5.40   90.0\n",
              "25   Estudiante 26    5.30   66.0\n",
              "26   Estudiante 27    5.30   90.0\n",
              "27   Estudiante 28    5.20   86.0\n",
              "28   Estudiante 29    5.20   72.0\n",
              "29   Estudiante 30    5.20   78.0\n",
              "30   Estudiante 31    5.20   80.0\n",
              "31   Estudiante 32    5.10   65.0\n",
              "32   Estudiante 33    5.10   86.0\n",
              "33   Estudiante 34    5.10   51.0\n",
              "34  Estudiante  35    4.50   81.0\n",
              "35  Estudiante  36    5.15   56.5\n",
              "36  Estudiante  37    5.74   86.0\n",
              "37  Estudiante  38    6.02  100.0"
            ],
            "text/html": [
              "\n",
              "  <div id=\"df-35800f20-8839-4d53-88fb-f49df7b03729\">\n",
              "    <div class=\"colab-df-container\">\n",
              "      <div>\n",
              "<style scoped>\n",
              "    .dataframe tbody tr th:only-of-type {\n",
              "        vertical-align: middle;\n",
              "    }\n",
              "\n",
              "    .dataframe tbody tr th {\n",
              "        vertical-align: top;\n",
              "    }\n",
              "\n",
              "    .dataframe thead th {\n",
              "        text-align: right;\n",
              "    }\n",
              "</style>\n",
              "<table border=\"1\" class=\"dataframe\">\n",
              "  <thead>\n",
              "    <tr style=\"text-align: right;\">\n",
              "      <th></th>\n",
              "      <th>Nombre</th>\n",
              "      <th>ntProm</th>\n",
              "      <th>asPor</th>\n",
              "    </tr>\n",
              "  </thead>\n",
              "  <tbody>\n",
              "    <tr>\n",
              "      <th>0</th>\n",
              "      <td>Estudiante 1</td>\n",
              "      <td>6.60</td>\n",
              "      <td>88.0</td>\n",
              "    </tr>\n",
              "    <tr>\n",
              "      <th>1</th>\n",
              "      <td>Estudiante 2</td>\n",
              "      <td>6.60</td>\n",
              "      <td>84.0</td>\n",
              "    </tr>\n",
              "    <tr>\n",
              "      <th>2</th>\n",
              "      <td>Estudiante 3</td>\n",
              "      <td>6.50</td>\n",
              "      <td>93.0</td>\n",
              "    </tr>\n",
              "    <tr>\n",
              "      <th>3</th>\n",
              "      <td>Estudiante 4</td>\n",
              "      <td>6.40</td>\n",
              "      <td>92.0</td>\n",
              "    </tr>\n",
              "    <tr>\n",
              "      <th>4</th>\n",
              "      <td>Estudiante 5</td>\n",
              "      <td>6.40</td>\n",
              "      <td>83.0</td>\n",
              "    </tr>\n",
              "    <tr>\n",
              "      <th>5</th>\n",
              "      <td>Estudiante 6</td>\n",
              "      <td>6.40</td>\n",
              "      <td>93.0</td>\n",
              "    </tr>\n",
              "    <tr>\n",
              "      <th>6</th>\n",
              "      <td>Estudiante 7</td>\n",
              "      <td>6.20</td>\n",
              "      <td>88.0</td>\n",
              "    </tr>\n",
              "    <tr>\n",
              "      <th>7</th>\n",
              "      <td>Estudiante 8</td>\n",
              "      <td>6.20</td>\n",
              "      <td>90.0</td>\n",
              "    </tr>\n",
              "    <tr>\n",
              "      <th>8</th>\n",
              "      <td>Estudiante 9</td>\n",
              "      <td>6.20</td>\n",
              "      <td>95.0</td>\n",
              "    </tr>\n",
              "    <tr>\n",
              "      <th>9</th>\n",
              "      <td>Estudiante 10</td>\n",
              "      <td>6.10</td>\n",
              "      <td>86.0</td>\n",
              "    </tr>\n",
              "    <tr>\n",
              "      <th>10</th>\n",
              "      <td>Estudiante 11</td>\n",
              "      <td>6.10</td>\n",
              "      <td>93.0</td>\n",
              "    </tr>\n",
              "    <tr>\n",
              "      <th>11</th>\n",
              "      <td>Estudiante 12</td>\n",
              "      <td>6.10</td>\n",
              "      <td>92.0</td>\n",
              "    </tr>\n",
              "    <tr>\n",
              "      <th>12</th>\n",
              "      <td>Estudiante 13</td>\n",
              "      <td>6.10</td>\n",
              "      <td>87.0</td>\n",
              "    </tr>\n",
              "    <tr>\n",
              "      <th>13</th>\n",
              "      <td>Estudiante 14</td>\n",
              "      <td>5.70</td>\n",
              "      <td>92.0</td>\n",
              "    </tr>\n",
              "    <tr>\n",
              "      <th>14</th>\n",
              "      <td>Estudiante 15</td>\n",
              "      <td>5.70</td>\n",
              "      <td>61.0</td>\n",
              "    </tr>\n",
              "    <tr>\n",
              "      <th>15</th>\n",
              "      <td>Estudiante 16</td>\n",
              "      <td>5.70</td>\n",
              "      <td>93.0</td>\n",
              "    </tr>\n",
              "    <tr>\n",
              "      <th>16</th>\n",
              "      <td>Estudiante 17</td>\n",
              "      <td>5.60</td>\n",
              "      <td>87.0</td>\n",
              "    </tr>\n",
              "    <tr>\n",
              "      <th>17</th>\n",
              "      <td>Estudiante 18</td>\n",
              "      <td>5.60</td>\n",
              "      <td>89.0</td>\n",
              "    </tr>\n",
              "    <tr>\n",
              "      <th>18</th>\n",
              "      <td>Estudiante 19</td>\n",
              "      <td>5.60</td>\n",
              "      <td>82.0</td>\n",
              "    </tr>\n",
              "    <tr>\n",
              "      <th>19</th>\n",
              "      <td>Estudiante 20</td>\n",
              "      <td>5.50</td>\n",
              "      <td>89.0</td>\n",
              "    </tr>\n",
              "    <tr>\n",
              "      <th>20</th>\n",
              "      <td>Estudiante 21</td>\n",
              "      <td>5.50</td>\n",
              "      <td>95.0</td>\n",
              "    </tr>\n",
              "    <tr>\n",
              "      <th>21</th>\n",
              "      <td>Estudiante 22</td>\n",
              "      <td>5.40</td>\n",
              "      <td>69.0</td>\n",
              "    </tr>\n",
              "    <tr>\n",
              "      <th>22</th>\n",
              "      <td>Estudiante 23</td>\n",
              "      <td>5.40</td>\n",
              "      <td>92.0</td>\n",
              "    </tr>\n",
              "    <tr>\n",
              "      <th>23</th>\n",
              "      <td>Estudiante 24</td>\n",
              "      <td>5.40</td>\n",
              "      <td>83.0</td>\n",
              "    </tr>\n",
              "    <tr>\n",
              "      <th>24</th>\n",
              "      <td>Estudiante 25</td>\n",
              "      <td>5.40</td>\n",
              "      <td>90.0</td>\n",
              "    </tr>\n",
              "    <tr>\n",
              "      <th>25</th>\n",
              "      <td>Estudiante 26</td>\n",
              "      <td>5.30</td>\n",
              "      <td>66.0</td>\n",
              "    </tr>\n",
              "    <tr>\n",
              "      <th>26</th>\n",
              "      <td>Estudiante 27</td>\n",
              "      <td>5.30</td>\n",
              "      <td>90.0</td>\n",
              "    </tr>\n",
              "    <tr>\n",
              "      <th>27</th>\n",
              "      <td>Estudiante 28</td>\n",
              "      <td>5.20</td>\n",
              "      <td>86.0</td>\n",
              "    </tr>\n",
              "    <tr>\n",
              "      <th>28</th>\n",
              "      <td>Estudiante 29</td>\n",
              "      <td>5.20</td>\n",
              "      <td>72.0</td>\n",
              "    </tr>\n",
              "    <tr>\n",
              "      <th>29</th>\n",
              "      <td>Estudiante 30</td>\n",
              "      <td>5.20</td>\n",
              "      <td>78.0</td>\n",
              "    </tr>\n",
              "    <tr>\n",
              "      <th>30</th>\n",
              "      <td>Estudiante 31</td>\n",
              "      <td>5.20</td>\n",
              "      <td>80.0</td>\n",
              "    </tr>\n",
              "    <tr>\n",
              "      <th>31</th>\n",
              "      <td>Estudiante 32</td>\n",
              "      <td>5.10</td>\n",
              "      <td>65.0</td>\n",
              "    </tr>\n",
              "    <tr>\n",
              "      <th>32</th>\n",
              "      <td>Estudiante 33</td>\n",
              "      <td>5.10</td>\n",
              "      <td>86.0</td>\n",
              "    </tr>\n",
              "    <tr>\n",
              "      <th>33</th>\n",
              "      <td>Estudiante 34</td>\n",
              "      <td>5.10</td>\n",
              "      <td>51.0</td>\n",
              "    </tr>\n",
              "    <tr>\n",
              "      <th>34</th>\n",
              "      <td>Estudiante  35</td>\n",
              "      <td>4.50</td>\n",
              "      <td>81.0</td>\n",
              "    </tr>\n",
              "    <tr>\n",
              "      <th>35</th>\n",
              "      <td>Estudiante  36</td>\n",
              "      <td>5.15</td>\n",
              "      <td>56.5</td>\n",
              "    </tr>\n",
              "    <tr>\n",
              "      <th>36</th>\n",
              "      <td>Estudiante  37</td>\n",
              "      <td>5.74</td>\n",
              "      <td>86.0</td>\n",
              "    </tr>\n",
              "    <tr>\n",
              "      <th>37</th>\n",
              "      <td>Estudiante  38</td>\n",
              "      <td>6.02</td>\n",
              "      <td>100.0</td>\n",
              "    </tr>\n",
              "  </tbody>\n",
              "</table>\n",
              "</div>\n",
              "      <button class=\"colab-df-convert\" onclick=\"convertToInteractive('df-35800f20-8839-4d53-88fb-f49df7b03729')\"\n",
              "              title=\"Convert this dataframe to an interactive table.\"\n",
              "              style=\"display:none;\">\n",
              "        \n",
              "  <svg xmlns=\"http://www.w3.org/2000/svg\" height=\"24px\"viewBox=\"0 0 24 24\"\n",
              "       width=\"24px\">\n",
              "    <path d=\"M0 0h24v24H0V0z\" fill=\"none\"/>\n",
              "    <path d=\"M18.56 5.44l.94 2.06.94-2.06 2.06-.94-2.06-.94-.94-2.06-.94 2.06-2.06.94zm-11 1L8.5 8.5l.94-2.06 2.06-.94-2.06-.94L8.5 2.5l-.94 2.06-2.06.94zm10 10l.94 2.06.94-2.06 2.06-.94-2.06-.94-.94-2.06-.94 2.06-2.06.94z\"/><path d=\"M17.41 7.96l-1.37-1.37c-.4-.4-.92-.59-1.43-.59-.52 0-1.04.2-1.43.59L10.3 9.45l-7.72 7.72c-.78.78-.78 2.05 0 2.83L4 21.41c.39.39.9.59 1.41.59.51 0 1.02-.2 1.41-.59l7.78-7.78 2.81-2.81c.8-.78.8-2.07 0-2.86zM5.41 20L4 18.59l7.72-7.72 1.47 1.35L5.41 20z\"/>\n",
              "  </svg>\n",
              "      </button>\n",
              "      \n",
              "  <style>\n",
              "    .colab-df-container {\n",
              "      display:flex;\n",
              "      flex-wrap:wrap;\n",
              "      gap: 12px;\n",
              "    }\n",
              "\n",
              "    .colab-df-convert {\n",
              "      background-color: #E8F0FE;\n",
              "      border: none;\n",
              "      border-radius: 50%;\n",
              "      cursor: pointer;\n",
              "      display: none;\n",
              "      fill: #1967D2;\n",
              "      height: 32px;\n",
              "      padding: 0 0 0 0;\n",
              "      width: 32px;\n",
              "    }\n",
              "\n",
              "    .colab-df-convert:hover {\n",
              "      background-color: #E2EBFA;\n",
              "      box-shadow: 0px 1px 2px rgba(60, 64, 67, 0.3), 0px 1px 3px 1px rgba(60, 64, 67, 0.15);\n",
              "      fill: #174EA6;\n",
              "    }\n",
              "\n",
              "    [theme=dark] .colab-df-convert {\n",
              "      background-color: #3B4455;\n",
              "      fill: #D2E3FC;\n",
              "    }\n",
              "\n",
              "    [theme=dark] .colab-df-convert:hover {\n",
              "      background-color: #434B5C;\n",
              "      box-shadow: 0px 1px 3px 1px rgba(0, 0, 0, 0.15);\n",
              "      filter: drop-shadow(0px 1px 2px rgba(0, 0, 0, 0.3));\n",
              "      fill: #FFFFFF;\n",
              "    }\n",
              "  </style>\n",
              "\n",
              "      <script>\n",
              "        const buttonEl =\n",
              "          document.querySelector('#df-35800f20-8839-4d53-88fb-f49df7b03729 button.colab-df-convert');\n",
              "        buttonEl.style.display =\n",
              "          google.colab.kernel.accessAllowed ? 'block' : 'none';\n",
              "\n",
              "        async function convertToInteractive(key) {\n",
              "          const element = document.querySelector('#df-35800f20-8839-4d53-88fb-f49df7b03729');\n",
              "          const dataTable =\n",
              "            await google.colab.kernel.invokeFunction('convertToInteractive',\n",
              "                                                     [key], {});\n",
              "          if (!dataTable) return;\n",
              "\n",
              "          const docLinkHtml = 'Like what you see? Visit the ' +\n",
              "            '<a target=\"_blank\" href=https://colab.research.google.com/notebooks/data_table.ipynb>data table notebook</a>'\n",
              "            + ' to learn more about interactive tables.';\n",
              "          element.innerHTML = '';\n",
              "          dataTable['output_type'] = 'display_data';\n",
              "          await google.colab.output.renderOutput(dataTable, element);\n",
              "          const docLink = document.createElement('div');\n",
              "          docLink.innerHTML = docLinkHtml;\n",
              "          element.appendChild(docLink);\n",
              "        }\n",
              "      </script>\n",
              "    </div>\n",
              "  </div>\n",
              "  "
            ]
          },
          "metadata": {},
          "execution_count": 16
        }
      ]
    },
    {
      "cell_type": "markdown",
      "source": [
        "escala asistencia/nota\n",
        "scatterplot"
      ],
      "metadata": {
        "id": "R0UNdsBBhfUO"
      }
    },
    {
      "cell_type": "code",
      "source": [
        "x = datos['asPor']#asistencia\n",
        "y = datos['ntProm']#notas\n",
        "\n",
        "plt.xlabel('Asistencia %.')\n",
        "plt.ylabel('Notas Prom.')\n",
        "plt.title('Asistencia/Notas.')\n",
        "\n",
        "plt.scatter(x, y, marker='o', color='darkcyan')\n",
        "plt.show()"
      ],
      "metadata": {
        "colab": {
          "base_uri": "https://localhost:8080/",
          "height": 295
        },
        "id": "Hhb_0Y6Rf9u1",
        "outputId": "bd02dadf-b015-44bc-cfb6-897ce993950e"
      },
      "execution_count": null,
      "outputs": [
        {
          "output_type": "display_data",
          "data": {
            "text/plain": [
              "<Figure size 432x288 with 1 Axes>"
            ],
            "image/png": "[encoded data removed]"
          },
          "metadata": {
            "needs_background": "light"
          }
        }
      ]
    },
    {
      "cell_type": "markdown",
      "source": [
        "Histograma de notas promedio"
      ],
      "metadata": {
        "id": "1K1s5Cjyk-U_"
      }
    },
    {
      "cell_type": "code",
      "source": [
        "x = datos['ntProm']#notas\n",
        "bins = [4.5,5.0,5.5,6.0,6.5,7.0]\n",
        "\n",
        "plt.xlabel('Intervalos.')\n",
        "plt.ylabel('Personas.')\n",
        "plt.title('Notas promedio.')\n",
        "\n",
        "plt.hist(x,bins,color='pink', edgecolor='black')\n",
        "plt.show()"
      ],
      "metadata": {
        "colab": {
          "base_uri": "https://localhost:8080/",
          "height": 295
        },
        "id": "XXptzcMpiL_W",
        "outputId": "c0671a1b-d64b-438b-84b3-fe3b31532c9c"
      },
      "execution_count": null,
      "outputs": [
        {
          "output_type": "display_data",
          "data": {
            "text/plain": [
              "<Figure size 432x288 with 1 Axes>"
            ],
            "image/png": "[encoded data removed]"
          },
          "metadata": {
            "needs_background": "light"
          }
        }
      ]
    },
    {
      "cell_type": "markdown",
      "source": [
        "Line Plot"
      ],
      "metadata": {
        "id": "OUR94CTUlRPG"
      }
    },
    {
      "cell_type": "code",
      "source": [
        "plt.figure(figsize=(10, 6))\n",
        "x = datos['asPor']#asistencia\n",
        "y = datos['ntProm']#notas\n",
        "\n",
        "plt.plot(x, y, marker='D', linestyle='--', color='darkcyan')\n",
        "\n",
        "plt.xlabel('Asistencia.')\n",
        "plt.ylabel('Notas Prom.')\n",
        "plt.title('Asistencia/Notas.')\n",
        "\n",
        "plt.show()"
      ],
      "metadata": {
        "id": "6jPJhBD3lDqu",
        "colab": {
          "base_uri": "https://localhost:8080/",
          "height": 404
        },
        "outputId": "6795f800-a356-4eba-cd33-38e5e33970fd"
      },
      "execution_count": null,
      "outputs": [
        {
          "output_type": "display_data",
          "data": {
            "text/plain": [
              "<Figure size 720x432 with 1 Axes>"
            ],
            "image/png": "[encoded data removed]"
          },
          "metadata": {
            "needs_background": "light"
          }
        }
      ]
    },
    {
      "cell_type": "code",
      "source": [
        "import numpy as np\n",
        "x = datos['asPor']#asistencia\n",
        "y = datos['ntProm']#notas\n",
        "\n",
        "promedio_x = round(x.mean(), 2)\n",
        "promedio_y = round(y.mean(), 2)\n",
        "print(\"promedio asistencia:\",promedio_x)\n",
        "print(\"promedio notas:\",promedio_y)\n",
        "\n",
        "desv_std_x = round(np.std(x), 2)\n",
        "desv_std_y = round(np.std(y), 2)\n",
        "\n",
        "var_x = round(np.cov(x, y)[0][0], 2)\n",
        "\n",
        "cov_x_y = round(np.cov(x, y)[0][1], 2)\n",
        "print(desv_std_x)\n",
        "print(desv_std_y)\n",
        "print(var_x)\n",
        "print(cov_x_y)\n",
        "\n",
        "rPearson = round( cov_x_y/(desv_std_x * desv_std_y), 2)\n",
        "\n",
        "print(\"este es r de pearson\", rPearson)\n",
        "\n",
        "beta_1 = round((cov_x_y/var_x), 2)\n",
        "\n",
        "beta_0 = round((promedio_y-beta_1*promedio_x), 2)\n",
        "\n",
        "print(\"esto es beta 1\",beta_1,\"esto es beta 0\", beta_0)"
      ],
      "metadata": {
        "colab": {
          "base_uri": "https://localhost:8080/"
        },
        "id": "QelKlLMBuI-J",
        "outputId": "287d2018-54a2-4e65-a1fa-116aa81ae5d0"
      },
      "execution_count": null,
      "outputs": [
        {
          "output_type": "stream",
          "name": "stdout",
          "text": [
            "promedio asistencia: 83.78\n",
            "promedio notas: 5.7\n",
            "11.23\n",
            "0.51\n",
            "129.6\n",
            "2.89\n",
            "este es r de pearson 0.5\n",
            "esto es beta 1 0.02 esto es beta 0 4.02\n"
          ]
        }
      ]
    },
    {
      "cell_type": "code",
      "source": [
        "plt.figure(figsize=(10, 6))\n",
        "\n",
        "x = datos['asPor']#asistencia\n",
        "y = datos['ntProm']#notas\n",
        "\n",
        "plt.plot(x, y, marker='o', linestyle='', color='pink', label='Datos Originales')\n",
        "\n",
        "# Gráfico de Función estimada\n",
        "x2 = datos['asPor']\n",
        "\n",
        "y2 = []\n",
        "for i,e in enumerate(x):\n",
        "  value = beta_0 + beta_1 * x2[i]\n",
        "  y2.append(value)\n",
        "\n",
        "plt.plot(x2, y2, marker='D', linestyle='--', color='darkcyan', label='Función Estimada')\n",
        "plt.xlabel('Asistencia')\n",
        "plt.ylabel('notas')\n",
        "\n",
        "plt.show()"
      ],
      "metadata": {
        "colab": {
          "base_uri": "https://localhost:8080/",
          "height": 388
        },
        "id": "Uwi9g0uCBW44",
        "outputId": "99ed49bc-69f7-4cc5-dedf-cd9161fb4447"
      },
      "execution_count": null,
      "outputs": [
        {
          "output_type": "display_data",
          "data": {
            "text/plain": [
              "<Figure size 720x432 with 1 Axes>"
            ],
            "image/png": "[encoded data removed]"
          },
          "metadata": {
            "needs_background": "light"
          }
        }
      ]
    }
  ]
}