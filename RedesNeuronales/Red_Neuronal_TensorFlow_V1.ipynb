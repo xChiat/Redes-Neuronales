{
  "nbformat": 4,
  "nbformat_minor": 0,
  "metadata": {
    "colab": {
      "provenance": []
    },
    "kernelspec": {
      "name": "python3",
      "display_name": "Python 3"
    },
    "language_info": {
      "name": "python"
    }
  },
  "cells": [
    {
      "cell_type": "markdown",
      "source": [
        "Paso 1:\n",
        "Importamos las librearias TensorFlow y Numpy."
      ],
      "metadata": {
        "id": "qWrh9Cu8Op-O"
      }
    },
    {
      "cell_type": "code",
      "source": [
        "https://www.tensorflow.org/?hl=es-419"
      ],
      "metadata": {
        "id": "y6PcjapwPYjk"
      },
      "execution_count": null,
      "outputs": []
    },
    {
      "cell_type": "code",
      "execution_count": null,
      "metadata": {
        "id": "movzPyv3JssG"
      },
      "outputs": [],
      "source": [
        "import tensorflow as tf\n",
        "import numpy as np"
      ]
    },
    {
      "cell_type": "markdown",
      "source": [
        "Paso 2: Creamos los array de números flotantes, variables de entrada y sus respectivas salidas."
      ],
      "metadata": {
        "id": "odg9XQMUPOE4"
      }
    },
    {
      "cell_type": "code",
      "source": [
        "celsius = np.array([-40, -10, 0, 8, 15, 22, 38], dtype=float)\n",
        "fahrenheit = np.array([-40, 14, 32, 46, 59, 72, 100], dtype=float)"
      ],
      "metadata": {
        "id": "Q6-JUgjvKCgB"
      },
      "execution_count": null,
      "outputs": []
    },
    {
      "cell_type": "markdown",
      "source": [
        "Paso 3: Creamos las capa de red neuronal usando Keras de tipo Densa (tiene conexiones desde cada neurona a todas las neuronas).\n",
        "En nuestro caso hay una sola neurona por lo que no hay muchas conexiones."
      ],
      "metadata": {
        "id": "SqAJY2mOPZ3O"
      }
    },
    {
      "cell_type": "code",
      "source": [
        "# units = Cantidad neuronas de la capa de salida\n",
        "# input_shape = Cantidad de neuronas de entrada\n",
        "capa = tf.keras.layers.Dense(units=1, input_shape=[1])\n",
        "\n",
        "# Modelo de tipo Secuencial\n",
        "modelo = tf.keras.Sequential([capa])"
      ],
      "metadata": {
        "id": "7R4fup9dKd8C"
      },
      "execution_count": null,
      "outputs": []
    },
    {
      "cell_type": "markdown",
      "source": [
        "Paso 4: Compilar el modelo.\n",
        "Se configuran 2 parámetros:\n",
        "1.- El optimizador: En este caso es el Adam, el cual es un algoritmo que optmiza las salidas del modelo para que al ajustarse vaya mejorando su resultado."
      ],
      "metadata": {
        "id": "J4R4UzPPQb_d"
      }
    },
    {
      "cell_type": "code",
      "source": [
        "modelo.compile(\n",
        "    # Adam recibe un parámetro que corresponde a la tasa de aprendizaje.\n",
        "    # Al cambiar este valor se puede ir variando la cantidad para que sea\n",
        "    # adecuada al resultado deseado.(Si es muy pequeño puede tomar más tiempo\n",
        "    # entrenar al modelo, si es muy grande puede arrojar valores fuera de rango)\n",
        "    optimizer=tf.keras.optimizers.Adam(0.1),\n",
        "    # Función de pérdida, error cuadrático medio\n",
        "    # Una poca cantidad de errores grandes\n",
        "    # es peor que una gran cantidad de errores pequeños\n",
        "    loss='mean_squared_error'\n",
        ")"
      ],
      "metadata": {
        "id": "OwO4qRd1Kx5a"
      },
      "execution_count": null,
      "outputs": []
    },
    {
      "cell_type": "code",
      "source": [],
      "metadata": {
        "id": "OnLDxpGLVLok"
      },
      "execution_count": null,
      "outputs": []
    },
    {
      "cell_type": "markdown",
      "source": [
        "Paso 5: Entrenamos al modelo usando la función fit().\n",
        "Le debemos indicar los datos de entrada, los de salida, y cuantas épocas o vueltas queremos que haga para entrenar el modelo, verbose es para que no imprima cada época de datos, es decir, trabaja en modo silencioso."
      ],
      "metadata": {
        "id": "PGdK7GNvUXpU"
      }
    },
    {
      "cell_type": "code",
      "source": [
        "print(\"Comenzando entrenamiento ...\")\n",
        "historial = modelo.fit(celsius, fahrenheit, epochs=1000, verbose=False)\n",
        "print(\"Modelo entrenado!\")"
      ],
      "metadata": {
        "colab": {
          "base_uri": "https://localhost:8080/"
        },
        "id": "H4P_8BaDLD5e",
        "outputId": "c3a7dc8b-ffdd-4004-8fe7-a6d6b54c9697"
      },
      "execution_count": null,
      "outputs": [
        {
          "output_type": "stream",
          "name": "stdout",
          "text": [
            "Comenzando entrenamiento ...\n",
            "Modelo entrenado!\n"
          ]
        }
      ]
    },
    {
      "cell_type": "markdown",
      "source": [
        "Paso 6: Imprimir el resultado de la función de pérdida en cada época lo que nos indica la magnitud del error por época."
      ],
      "metadata": {
        "id": "IKSpN31KVc4H"
      }
    },
    {
      "cell_type": "code",
      "source": [
        "import matplotlib.pyplot as plt\n",
        "plt.xlabel(\"# Epoca\")\n",
        "plt.ylabel(\"Magnitud de pérdida\")\n",
        "plt.plot(historial.history[\"loss\"])"
      ],
      "metadata": {
        "colab": {
          "base_uri": "https://localhost:8080/",
          "height": 296
        },
        "id": "mX2ZHqUELcCl",
        "outputId": "b914cd7d-9f1e-49d1-b2a9-6b2a2b2f4d44"
      },
      "execution_count": null,
      "outputs": [
        {
          "output_type": "execute_result",
          "data": {
            "text/plain": [
              "[<matplotlib.lines.Line2D at 0x7eff423d03d0>]"
            ]
          },
          "metadata": {},
          "execution_count": 7
        },
        {
          "output_type": "display_data",
          "data": {
            "text/plain": [
              "<Figure size 432x288 with 1 Axes>"
            ],
            "image/png": "[encoded data removed]"
          },
          "metadata": {
            "needs_background": "light"
          }
        }
      ]
    },
    {
      "cell_type": "markdown",
      "source": [
        "Paso 7: Hacer un predicción."
      ],
      "metadata": {
        "id": "W6loxP-QWtoN"
      }
    },
    {
      "cell_type": "code",
      "source": [
        "print(\"Hagamos una predicción!\")\n",
        "resultado = modelo.predict([100.0])\n",
        "print(\"El resultado es \" + str(resultado) + \" farenheit!\")"
      ],
      "metadata": {
        "colab": {
          "base_uri": "https://localhost:8080/"
        },
        "id": "ApSSu_9rMC8g",
        "outputId": "5dde173d-c071-434f-9539-3e7234320443"
      },
      "execution_count": null,
      "outputs": [
        {
          "output_type": "stream",
          "name": "stdout",
          "text": [
            "Hagamos una predicción!\n",
            "El resultado es [[211.74405]] farenheit!\n"
          ]
        }
      ]
    },
    {
      "cell_type": "code",
      "source": [
        "print(\"Variables internas del modelo\")\n",
        "print(capa.get_weights())"
      ],
      "metadata": {
        "colab": {
          "base_uri": "https://localhost:8080/"
        },
        "id": "_cTZZ5AVMqtQ",
        "outputId": "4b272577-1e37-4600-d116-e5607cd5c6af"
      },
      "execution_count": null,
      "outputs": [
        {
          "output_type": "stream",
          "name": "stdout",
          "text": [
            "Variables internas del modelo\n",
            "[array([[1.7981339]], dtype=float32), array([31.930662], dtype=float32)]\n"
          ]
        }
      ]
    }
  ]
}