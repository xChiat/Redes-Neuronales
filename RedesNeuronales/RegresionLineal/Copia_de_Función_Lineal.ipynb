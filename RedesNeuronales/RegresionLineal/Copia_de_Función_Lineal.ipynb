{
  "nbformat": 4,
  "nbformat_minor": 0,
  "metadata": {
    "colab": {
      "provenance": []
    },
    "kernelspec": {
      "name": "python3",
      "display_name": "Python 3"
    },
    "language_info": {
      "name": "python"
    }
  },
  "cells": [
    {
      "cell_type": "markdown",
      "source": [
        "# **Función Lineal**\n",
        "## Posee la siguiente forma:\n",
        "# y = mx + b\n",
        "## Donde:\n",
        "## x: Es la variable independiente\n",
        "## y: Es la variable dependiente\n",
        "## m: Es la pendiente de la recta\n",
        "##       -Si 'm' es positiva (+): la pendiente sube.\n",
        "##       -Si 'm' es negativa (-): la pendiente baja.\n",
        "##       -Si 'm' es 0: ?????\n",
        "## b: Es el intercepto o punto donde la recta corta el eje y.\n",
        "\n",
        "## Video de Apoyo\n",
        "https://www.youtube.com/watch?v=FivdryOMLZ8\n"
      ],
      "metadata": {
        "id": "Sg9uIhFVrp37"
      }
    },
    {
      "cell_type": "markdown",
      "source": [
        "## **Ejemplos**"
      ],
      "metadata": {
        "id": "z3L2Udbxe2sF"
      }
    },
    {
      "cell_type": "code",
      "source": [
        "#1 f(x) = 2x + 1\n",
        "\n",
        "#2 y = -2x\n",
        "\n",
        "#3 y = x\n",
        "\n",
        "#4 f(x) = 3x\n",
        "\n",
        "#5 y = x - 4\n",
        "\n",
        "#6 f(x) = 7x - 4\n"
      ],
      "metadata": {
        "id": "2wU015rbe04A"
      },
      "execution_count": null,
      "outputs": []
    },
    {
      "cell_type": "code",
      "execution_count": null,
      "metadata": {
        "id": "zTF6fuDgrPZZ",
        "colab": {
          "base_uri": "https://localhost:8080/",
          "height": 300
        },
        "outputId": "694ca0b4-946a-4428-d588-aa1e1e961f96"
      },
      "outputs": [
        {
          "output_type": "stream",
          "name": "stdout",
          "text": [
            "[-2, -1, 0, 1, 2, 3, 4, 5, 6, 7, 8, 9, 10]\n",
            "[-3, -1, 1, 3, 5, 7, 9, 11, 13, 15, 17, 19, 21]\n"
          ]
        },
        {
          "output_type": "display_data",
          "data": {
            "text/plain": [
              "<Figure size 432x288 with 1 Axes>"
            ],
            "image/png": "[encoded data removed]"
          },
          "metadata": {
            "needs_background": "light"
          }
        }
      ],
      "source": [
        "# Importar módulo matlplotlib\n",
        "from matplotlib import pyplot as plt\n",
        "\n",
        "# Valores del eje X\n",
        "x = [-2,-1,0,1, 2, 3, 4, 5, 6, 7, 8, 9, 10]\n",
        "# Valores del eje Y, en este caso crearemos una lista vacía\n",
        "y = []\n",
        "\n",
        "# Para llenar la lista usamos el método for con un enumerate\n",
        "for i,e in enumerate(x):\n",
        "# Creamos la expresión de la función matemática que se aplicará a cada valor de x\n",
        "# Usando eval()\n",
        "  value = 2*x[i] + 1\n",
        "# Añadimos cada valor calculado a la lista y vacía\n",
        "  y.append(value)\n",
        "\n",
        "print(x)\n",
        "print(y)\n",
        "\n",
        "# Función para crear el gráfico\n",
        "plt.plot(x, y)\n",
        "# Función para mostrar el gráfico\n",
        "plt.show()"
      ]
    },
    {
      "cell_type": "code",
      "source": [
        "# Importar módulo matlplotlib\n",
        "from matplotlib import pyplot as plt\n",
        "\n",
        "\n",
        "x = [-2,-1,0,1, 2, 3, 4, 5, 6, 7, 8, 9, 10]\n",
        "y = []\n",
        "\n",
        "for i,e in enumerate(x):\n",
        "  value = -2*x[i]\n",
        "  y.append(value)\n",
        "\n",
        "print(x)\n",
        "print(y)\n",
        "\n",
        "plt.plot(x, y, marker='D', linestyle=':', color='g')\n",
        "plt.show()\n",
        "\n",
        "# colores= https://matplotlib.org/stable/gallery/color/named_colors.html\n",
        "# markers= https://matplotlib.org/stable/api/markers_api.html\n",
        "# linestyle = '-', '--', '-.', ':', 'None', ' ', '', 'solid', 'dashed', 'dashdot', 'dotted'"
      ],
      "metadata": {
        "colab": {
          "base_uri": "https://localhost:8080/",
          "height": 303
        },
        "id": "T19bhJUOfuGA",
        "outputId": "064e4615-9b82-4863-ca68-7e0ac41847d2"
      },
      "execution_count": null,
      "outputs": [
        {
          "output_type": "stream",
          "name": "stdout",
          "text": [
            "[-2, -1, 0, 1, 2, 3, 4, 5, 6, 7, 8, 9, 10]\n",
            "[4, 2, 0, -2, -4, -6, -8, -10, -12, -14, -16, -18, -20]\n"
          ]
        },
        {
          "output_type": "display_data",
          "data": {
            "text/plain": [
              "<Figure size 432x288 with 1 Axes>"
            ],
            "image/png": "[encoded data removed]"
          },
          "metadata": {
            "needs_background": "light"
          }
        }
      ]
    },
    {
      "cell_type": "code",
      "source": [
        "\n",
        "\n",
        "# Importar módulo matlplotlib\n",
        "from matplotlib import pyplot as plt\n",
        "\n",
        "x = [1, 2, 3, 4, 5, 6, 7, 8, 9, 10]\n",
        "y = []\n",
        "\n",
        "for i,e in enumerate(x):\n",
        "  value = x[i]\n",
        "  y.append(value)\n",
        "\n",
        "print(x)\n",
        "print(y)\n",
        "\n",
        "plt.plot(x, y, marker='o', linestyle='-', color='b')\n",
        "plt.show()"
      ],
      "metadata": {
        "colab": {
          "base_uri": "https://localhost:8080/",
          "height": 300
        },
        "id": "9uOpU-xRmPN4",
        "outputId": "39526c3d-9d6d-4f30-b675-ddb76bc1e4b2"
      },
      "execution_count": null,
      "outputs": [
        {
          "output_type": "stream",
          "name": "stdout",
          "text": [
            "[1, 2, 3, 4, 5, 6, 7, 8, 9, 10]\n",
            "[1, 2, 3, 4, 5, 6, 7, 8, 9, 10]\n"
          ]
        },
        {
          "output_type": "display_data",
          "data": {
            "text/plain": [
              "<Figure size 432x288 with 1 Axes>"
            ],
            "image/png": "[encoded data removed]"
          },
          "metadata": {
            "needs_background": "light"
          }
        }
      ]
    },
    {
      "cell_type": "code",
      "source": [
        "# Crear el gráfico de la función #4\n",
        "from matplotlib import pyplot as plt\n",
        "\n",
        "x = [-2,-1,0,1, 2, 3, 4, 5, 6, 7, 8, 9, 10]\n",
        "y = []\n",
        "\n",
        "for i,e in enumerate(x):\n",
        "  value = 3*x[i]\n",
        "  y.append(value)\n",
        "\n",
        "print(x)\n",
        "print(y)\n",
        "\n",
        "plt.plot(x, y, marker='D', linestyle=':', color='darkcyan')\n",
        "plt.show()"
      ],
      "metadata": {
        "id": "us6OK-D6mpdI",
        "outputId": "dcfd626f-ab27-48d0-d965-ec71d02c79dd",
        "colab": {
          "base_uri": "https://localhost:8080/",
          "height": 300
        }
      },
      "execution_count": null,
      "outputs": [
        {
          "output_type": "stream",
          "name": "stdout",
          "text": [
            "[-2, -1, 0, 1, 2, 3, 4, 5, 6, 7, 8, 9, 10]\n",
            "[-6, -3, 0, 3, 6, 9, 12, 15, 18, 21, 24, 27, 30]\n"
          ]
        },
        {
          "output_type": "display_data",
          "data": {
            "text/plain": [
              "<Figure size 432x288 with 1 Axes>"
            ],
            "image/png": "[encoded data removed]"
          },
          "metadata": {
            "needs_background": "light"
          }
        }
      ]
    },
    {
      "cell_type": "code",
      "source": [
        "# Crear el gráfico de la función #5\n",
        "from matplotlib import pyplot as plt\n",
        "\n",
        "x = [-2,-1,0,1, 2, 3, 4, 5, 6, 7, 8, 9, 10]\n",
        "y = []\n",
        "\n",
        "for i,e in enumerate(x):\n",
        "  value = x[i] - 4\n",
        "  y.append(value)\n",
        "\n",
        "print(x)\n",
        "print(y)\n",
        "\n",
        "plt.plot(x, y, marker='D', linestyle=':', color='pink')\n",
        "plt.show()"
      ],
      "metadata": {
        "id": "MwZH0gxempux",
        "colab": {
          "base_uri": "https://localhost:8080/",
          "height": 300
        },
        "outputId": "e820ea06-74a3-4458-c357-aba408a42a84"
      },
      "execution_count": null,
      "outputs": [
        {
          "output_type": "stream",
          "name": "stdout",
          "text": [
            "[-2, -1, 0, 1, 2, 3, 4, 5, 6, 7, 8, 9, 10]\n",
            "[-6, -5, -4, -3, -2, -1, 0, 1, 2, 3, 4, 5, 6]\n"
          ]
        },
        {
          "output_type": "display_data",
          "data": {
            "text/plain": [
              "<Figure size 432x288 with 1 Axes>"
            ],
            "image/png": "[encoded data removed]"
          },
          "metadata": {
            "needs_background": "light"
          }
        }
      ]
    },
    {
      "cell_type": "code",
      "source": [
        "# Crear el gráfico de la función #6\n",
        "from matplotlib import pyplot as plt\n",
        "\n",
        "x = [-2,-1,0,1, 2, 3, 4, 5, 6, 7, 8, 9, 10]\n",
        "y = []\n",
        "\n",
        "for i,e in enumerate(x):\n",
        "  value = 7*x[i] - 4\n",
        "  y.append(value)\n",
        "\n",
        "print(x)\n",
        "print(y)\n",
        "\n",
        "plt.plot(x, y, marker='D', linestyle=':', color='orange')\n",
        "plt.show()"
      ],
      "metadata": {
        "id": "nYMRBAAtmqDA",
        "colab": {
          "base_uri": "https://localhost:8080/",
          "height": 300
        },
        "outputId": "a314dbdc-020b-4a4b-92c6-3c5df96b461e"
      },
      "execution_count": null,
      "outputs": [
        {
          "output_type": "stream",
          "name": "stdout",
          "text": [
            "[-2, -1, 0, 1, 2, 3, 4, 5, 6, 7, 8, 9, 10]\n",
            "[-18, -11, -4, 3, 10, 17, 24, 31, 38, 45, 52, 59, 66]\n"
          ]
        },
        {
          "output_type": "display_data",
          "data": {
            "text/plain": [
              "<Figure size 432x288 with 1 Axes>"
            ],
            "image/png": "[encoded data removed]"
          },
          "metadata": {
            "needs_background": "light"
          }
        }
      ]
    },
    {
      "cell_type": "code",
      "source": [
        "# Tomar una función lineal o crearla y graficarla\n",
        "# Por ejemplo: La función para calcular el precio de un producto\n",
        "# Otro ejemplo: La función para el cambio de una moneda a otra\n",
        "\n",
        "from matplotlib import pyplot as plt\n",
        "\n",
        "#funcion precio del pan\n",
        "\n",
        "x = [1, 2, 3, 4, 5, 6, 7, 8, 9, 10]\n",
        "y = []\n",
        "\n",
        "for i,e in enumerate(x):\n",
        "  value = 150*x[i]\n",
        "  y.append(value)\n",
        "\n",
        "print(x)\n",
        "print(y)\n",
        "\n",
        "plt.plot(x, y, marker='D', linestyle=':', color='orange')\n",
        "plt.show()"
      ],
      "metadata": {
        "id": "6IdU_BMCnHb1",
        "colab": {
          "base_uri": "https://localhost:8080/",
          "height": 300
        },
        "outputId": "fe2d1f84-e94d-4ba2-913d-14fd35927c0b"
      },
      "execution_count": null,
      "outputs": [
        {
          "output_type": "stream",
          "name": "stdout",
          "text": [
            "[1, 2, 3, 4, 5, 6, 7, 8, 9, 10]\n",
            "[150, 300, 450, 600, 750, 900, 1050, 1200, 1350, 1500]\n"
          ]
        },
        {
          "output_type": "display_data",
          "data": {
            "text/plain": [
              "<Figure size 432x288 with 1 Axes>"
            ],
            "image/png": "[encoded data removed]"
          },
          "metadata": {
            "needs_background": "light"
          }
        }
      ]
    },
    {
      "cell_type": "code",
      "source": [
        "# Crear el gráfico de 1 de las funciones anteriores usando valores aleatorios\n",
        "\n",
        "#Ejemplo\n",
        "# Importar módulo matlplotlib\n",
        "from matplotlib import pyplot as plt\n",
        "import random\n",
        "\n",
        "# Crear una lista usando range() y list()\n",
        "x = list(range(5))\n",
        "# Desordenar la lista\n",
        "random.shuffle(x)\n",
        "\n",
        "y=[]\n",
        "for i,e in enumerate(x):\n",
        "  value = -3*x[i] + 2\n",
        "  y.append(value)\n",
        "\n",
        "print(x)\n",
        "print(y)\n",
        "\n",
        "plt.plot(x, y, marker='s', linestyle=':', color='tomato')\n",
        "plt.show()"
      ],
      "metadata": {
        "colab": {
          "base_uri": "https://localhost:8080/",
          "height": 300
        },
        "id": "2rx9xaD5qoPR",
        "outputId": "2430bb7a-19ca-4847-85fe-53b2780a6698"
      },
      "execution_count": null,
      "outputs": [
        {
          "output_type": "stream",
          "name": "stdout",
          "text": [
            "[2, 4, 3, 1, 0]\n",
            "[-4, -10, -7, -1, 2]\n"
          ]
        },
        {
          "output_type": "display_data",
          "data": {
            "text/plain": [
              "<Figure size 432x288 with 1 Axes>"
            ],
            "image/png": "[encoded data removed]"
          },
          "metadata": {
            "needs_background": "light"
          }
        }
      ]
    },
    {
      "cell_type": "code",
      "source": [
        "# Ingresa el código de tu gráfico aquí usando como base el ejemplo anterior\n",
        "from matplotlib import pyplot as plt\n",
        "import random\n",
        "\n",
        "x = list(range(10))\n",
        "random.shuffle(x)\n",
        "\n",
        "y=[]\n",
        "for i,e in enumerate(x):\n",
        "  value = -3*x[i] + 2\n",
        "  y.append(value)\n",
        "\n",
        "print(x)\n",
        "print(y)\n",
        "\n",
        "plt.plot(x, y, marker='D', linestyle=':', color='orange')\n",
        "plt.show()"
      ],
      "metadata": {
        "id": "OimqdR6F-MY7",
        "colab": {
          "base_uri": "https://localhost:8080/",
          "height": 300
        },
        "outputId": "7737eff6-a1b5-42eb-a2d6-3e366c58d7c8"
      },
      "execution_count": null,
      "outputs": [
        {
          "output_type": "stream",
          "name": "stdout",
          "text": [
            "[2, 1, 7, 5, 3, 0, 6, 9, 4, 8]\n",
            "[-4, -1, -19, -13, -7, 2, -16, -25, -10, -22]\n"
          ]
        },
        {
          "output_type": "display_data",
          "data": {
            "text/plain": [
              "<Figure size 432x288 with 1 Axes>"
            ],
            "image/png": "[encoded data removed]"
          },
          "metadata": {
            "needs_background": "light"
          }
        }
      ]
    },
    {
      "cell_type": "code",
      "source": [
        "# Crear gráfico de una función con valores aleatorios usando random.choice()\n",
        "from matplotlib import pyplot as plt\n",
        "import random\n",
        "valores = list(range(15))\n",
        "x = []\n",
        "for i,e in enumerate(valores):\n",
        "  value1 = random.choice(valores)\n",
        "  x.append(value1)\n",
        "\n",
        "y=[]\n",
        "for i,e in enumerate(x):\n",
        "  value = -3*x[i] + 2\n",
        "  y.append(value)\n",
        "\n",
        "print(x)\n",
        "print(y)\n",
        "\n",
        "plt.plot(x, y, marker='D', linestyle=':', color='orange')\n",
        "plt.show()"
      ],
      "metadata": {
        "id": "fB9lOtX7rO7t",
        "colab": {
          "base_uri": "https://localhost:8080/",
          "height": 300
        },
        "outputId": "ea488e40-6505-4b7b-f83d-1932d3124e95"
      },
      "execution_count": null,
      "outputs": [
        {
          "output_type": "stream",
          "name": "stdout",
          "text": [
            "[11, 6, 0, 3, 14, 2, 4, 8, 5, 11, 10, 10, 14, 0, 7]\n",
            "[-31, -16, 2, -7, -40, -4, -10, -22, -13, -31, -28, -28, -40, 2, -19]\n"
          ]
        },
        {
          "output_type": "display_data",
          "data": {
            "text/plain": [
              "<Figure size 432x288 with 1 Axes>"
            ],
            "image/png": "[encoded data removed]"
          },
          "metadata": {
            "needs_background": "light"
          }
        }
      ]
    }
  ]
}